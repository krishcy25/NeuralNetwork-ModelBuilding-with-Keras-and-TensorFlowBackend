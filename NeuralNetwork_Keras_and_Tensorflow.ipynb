{
  "nbformat": 4,
  "nbformat_minor": 0,
  "metadata": {
    "colab": {
      "name": "NeuralNetwork- Keras and Tensorflow.ipynb",
      "provenance": [],
      "collapsed_sections": [],
      "toc_visible": true
    },
    "kernelspec": {
      "name": "python3",
      "display_name": "Python 3"
    }
  },
  "cells": [
    {
      "cell_type": "code",
      "metadata": {
        "id": "6fa14NpeaGoH",
        "colab_type": "code",
        "colab": {}
      },
      "source": [
        "#Importing the dataset\n",
        "import pandas as pd\n",
        "import numpy as np\n",
        "\n",
        "\n",
        "df = pd.read_csv('/content/housepricedata.csv')"
      ],
      "execution_count": 1,
      "outputs": []
    },
    {
      "cell_type": "code",
      "metadata": {
        "id": "63HF1Dlva4BP",
        "colab_type": "code",
        "colab": {
          "base_uri": "https://localhost:8080/",
          "height": 419
        },
        "outputId": "2ecd98fb-bdb8-4dfd-fedf-636fb585efdd"
      },
      "source": [
        "df"
      ],
      "execution_count": 2,
      "outputs": [
        {
          "output_type": "execute_result",
          "data": {
            "text/html": [
              "<div>\n",
              "<style scoped>\n",
              "    .dataframe tbody tr th:only-of-type {\n",
              "        vertical-align: middle;\n",
              "    }\n",
              "\n",
              "    .dataframe tbody tr th {\n",
              "        vertical-align: top;\n",
              "    }\n",
              "\n",
              "    .dataframe thead th {\n",
              "        text-align: right;\n",
              "    }\n",
              "</style>\n",
              "<table border=\"1\" class=\"dataframe\">\n",
              "  <thead>\n",
              "    <tr style=\"text-align: right;\">\n",
              "      <th></th>\n",
              "      <th>LotArea</th>\n",
              "      <th>OverallQual</th>\n",
              "      <th>OverallCond</th>\n",
              "      <th>TotalBsmtSF</th>\n",
              "      <th>FullBath</th>\n",
              "      <th>HalfBath</th>\n",
              "      <th>BedroomAbvGr</th>\n",
              "      <th>TotRmsAbvGrd</th>\n",
              "      <th>Fireplaces</th>\n",
              "      <th>GarageArea</th>\n",
              "      <th>AboveMedianPrice</th>\n",
              "    </tr>\n",
              "  </thead>\n",
              "  <tbody>\n",
              "    <tr>\n",
              "      <th>0</th>\n",
              "      <td>8450</td>\n",
              "      <td>7</td>\n",
              "      <td>5</td>\n",
              "      <td>856</td>\n",
              "      <td>2</td>\n",
              "      <td>1</td>\n",
              "      <td>3</td>\n",
              "      <td>8</td>\n",
              "      <td>0</td>\n",
              "      <td>548</td>\n",
              "      <td>1</td>\n",
              "    </tr>\n",
              "    <tr>\n",
              "      <th>1</th>\n",
              "      <td>9600</td>\n",
              "      <td>6</td>\n",
              "      <td>8</td>\n",
              "      <td>1262</td>\n",
              "      <td>2</td>\n",
              "      <td>0</td>\n",
              "      <td>3</td>\n",
              "      <td>6</td>\n",
              "      <td>1</td>\n",
              "      <td>460</td>\n",
              "      <td>1</td>\n",
              "    </tr>\n",
              "    <tr>\n",
              "      <th>2</th>\n",
              "      <td>11250</td>\n",
              "      <td>7</td>\n",
              "      <td>5</td>\n",
              "      <td>920</td>\n",
              "      <td>2</td>\n",
              "      <td>1</td>\n",
              "      <td>3</td>\n",
              "      <td>6</td>\n",
              "      <td>1</td>\n",
              "      <td>608</td>\n",
              "      <td>1</td>\n",
              "    </tr>\n",
              "    <tr>\n",
              "      <th>3</th>\n",
              "      <td>9550</td>\n",
              "      <td>7</td>\n",
              "      <td>5</td>\n",
              "      <td>756</td>\n",
              "      <td>1</td>\n",
              "      <td>0</td>\n",
              "      <td>3</td>\n",
              "      <td>7</td>\n",
              "      <td>1</td>\n",
              "      <td>642</td>\n",
              "      <td>0</td>\n",
              "    </tr>\n",
              "    <tr>\n",
              "      <th>4</th>\n",
              "      <td>14260</td>\n",
              "      <td>8</td>\n",
              "      <td>5</td>\n",
              "      <td>1145</td>\n",
              "      <td>2</td>\n",
              "      <td>1</td>\n",
              "      <td>4</td>\n",
              "      <td>9</td>\n",
              "      <td>1</td>\n",
              "      <td>836</td>\n",
              "      <td>1</td>\n",
              "    </tr>\n",
              "    <tr>\n",
              "      <th>...</th>\n",
              "      <td>...</td>\n",
              "      <td>...</td>\n",
              "      <td>...</td>\n",
              "      <td>...</td>\n",
              "      <td>...</td>\n",
              "      <td>...</td>\n",
              "      <td>...</td>\n",
              "      <td>...</td>\n",
              "      <td>...</td>\n",
              "      <td>...</td>\n",
              "      <td>...</td>\n",
              "    </tr>\n",
              "    <tr>\n",
              "      <th>1455</th>\n",
              "      <td>7917</td>\n",
              "      <td>6</td>\n",
              "      <td>5</td>\n",
              "      <td>953</td>\n",
              "      <td>2</td>\n",
              "      <td>1</td>\n",
              "      <td>3</td>\n",
              "      <td>7</td>\n",
              "      <td>1</td>\n",
              "      <td>460</td>\n",
              "      <td>1</td>\n",
              "    </tr>\n",
              "    <tr>\n",
              "      <th>1456</th>\n",
              "      <td>13175</td>\n",
              "      <td>6</td>\n",
              "      <td>6</td>\n",
              "      <td>1542</td>\n",
              "      <td>2</td>\n",
              "      <td>0</td>\n",
              "      <td>3</td>\n",
              "      <td>7</td>\n",
              "      <td>2</td>\n",
              "      <td>500</td>\n",
              "      <td>1</td>\n",
              "    </tr>\n",
              "    <tr>\n",
              "      <th>1457</th>\n",
              "      <td>9042</td>\n",
              "      <td>7</td>\n",
              "      <td>9</td>\n",
              "      <td>1152</td>\n",
              "      <td>2</td>\n",
              "      <td>0</td>\n",
              "      <td>4</td>\n",
              "      <td>9</td>\n",
              "      <td>2</td>\n",
              "      <td>252</td>\n",
              "      <td>1</td>\n",
              "    </tr>\n",
              "    <tr>\n",
              "      <th>1458</th>\n",
              "      <td>9717</td>\n",
              "      <td>5</td>\n",
              "      <td>6</td>\n",
              "      <td>1078</td>\n",
              "      <td>1</td>\n",
              "      <td>0</td>\n",
              "      <td>2</td>\n",
              "      <td>5</td>\n",
              "      <td>0</td>\n",
              "      <td>240</td>\n",
              "      <td>0</td>\n",
              "    </tr>\n",
              "    <tr>\n",
              "      <th>1459</th>\n",
              "      <td>9937</td>\n",
              "      <td>5</td>\n",
              "      <td>6</td>\n",
              "      <td>1256</td>\n",
              "      <td>1</td>\n",
              "      <td>1</td>\n",
              "      <td>3</td>\n",
              "      <td>6</td>\n",
              "      <td>0</td>\n",
              "      <td>276</td>\n",
              "      <td>0</td>\n",
              "    </tr>\n",
              "  </tbody>\n",
              "</table>\n",
              "<p>1460 rows × 11 columns</p>\n",
              "</div>"
            ],
            "text/plain": [
              "      LotArea  OverallQual  ...  GarageArea  AboveMedianPrice\n",
              "0        8450            7  ...         548                 1\n",
              "1        9600            6  ...         460                 1\n",
              "2       11250            7  ...         608                 1\n",
              "3        9550            7  ...         642                 0\n",
              "4       14260            8  ...         836                 1\n",
              "...       ...          ...  ...         ...               ...\n",
              "1455     7917            6  ...         460                 1\n",
              "1456    13175            6  ...         500                 1\n",
              "1457     9042            7  ...         252                 1\n",
              "1458     9717            5  ...         240                 0\n",
              "1459     9937            5  ...         276                 0\n",
              "\n",
              "[1460 rows x 11 columns]"
            ]
          },
          "metadata": {
            "tags": []
          },
          "execution_count": 2
        }
      ]
    },
    {
      "cell_type": "code",
      "metadata": {
        "id": "nQgDwiE2bZ7C",
        "colab_type": "code",
        "colab": {}
      },
      "source": [
        "dataset = df.values"
      ],
      "execution_count": 3,
      "outputs": []
    },
    {
      "cell_type": "code",
      "metadata": {
        "id": "NZ6nWCurbdzQ",
        "colab_type": "code",
        "colab": {
          "base_uri": "https://localhost:8080/",
          "height": 136
        },
        "outputId": "62892153-7ba3-4183-f712-f7c1f6745408"
      },
      "source": [
        "dataset"
      ],
      "execution_count": 4,
      "outputs": [
        {
          "output_type": "execute_result",
          "data": {
            "text/plain": [
              "array([[ 8450,     7,     5, ...,     0,   548,     1],\n",
              "       [ 9600,     6,     8, ...,     1,   460,     1],\n",
              "       [11250,     7,     5, ...,     1,   608,     1],\n",
              "       ...,\n",
              "       [ 9042,     7,     9, ...,     2,   252,     1],\n",
              "       [ 9717,     5,     6, ...,     0,   240,     0],\n",
              "       [ 9937,     5,     6, ...,     0,   276,     0]])"
            ]
          },
          "metadata": {
            "tags": []
          },
          "execution_count": 4
        }
      ]
    },
    {
      "cell_type": "code",
      "metadata": {
        "id": "e4z6Uvi8bsOt",
        "colab_type": "code",
        "colab": {}
      },
      "source": [
        "X = dataset[:,0:10]\n",
        "Y = dataset[:,10]"
      ],
      "execution_count": 5,
      "outputs": []
    },
    {
      "cell_type": "code",
      "metadata": {
        "id": "EaSZu_z3bvMD",
        "colab_type": "code",
        "colab": {}
      },
      "source": [
        "#Normalizing and Scaling the dataset are very important as there are no missing values in the dataset\n",
        "#Normalization/Scaling makes input features to be on same order of magnitude\n",
        "#Mim max scaler scales our data values to be between 0 and 1\n",
        "\n",
        "from sklearn import preprocessing\n",
        "min_max_scaler = preprocessing.MinMaxScaler()\n",
        "X_scale = min_max_scaler.fit_transform(X)"
      ],
      "execution_count": 6,
      "outputs": []
    },
    {
      "cell_type": "code",
      "metadata": {
        "id": "6cQtTWk9bzPJ",
        "colab_type": "code",
        "colab": {
          "base_uri": "https://localhost:8080/",
          "height": 238
        },
        "outputId": "7ddab3b1-0d08-4616-a987-70ed1f2f9751"
      },
      "source": [
        "X_scale"
      ],
      "execution_count": 7,
      "outputs": [
        {
          "output_type": "execute_result",
          "data": {
            "text/plain": [
              "array([[0.0334198 , 0.66666667, 0.5       , ..., 0.5       , 0.        ,\n",
              "        0.3864598 ],\n",
              "       [0.03879502, 0.55555556, 0.875     , ..., 0.33333333, 0.33333333,\n",
              "        0.32440056],\n",
              "       [0.04650728, 0.66666667, 0.5       , ..., 0.33333333, 0.33333333,\n",
              "        0.42877292],\n",
              "       ...,\n",
              "       [0.03618687, 0.66666667, 1.        , ..., 0.58333333, 0.66666667,\n",
              "        0.17771509],\n",
              "       [0.03934189, 0.44444444, 0.625     , ..., 0.25      , 0.        ,\n",
              "        0.16925247],\n",
              "       [0.04037019, 0.44444444, 0.625     , ..., 0.33333333, 0.        ,\n",
              "        0.19464034]])"
            ]
          },
          "metadata": {
            "tags": []
          },
          "execution_count": 7
        }
      ]
    },
    {
      "cell_type": "code",
      "metadata": {
        "id": "1V0HzLv5b07b",
        "colab_type": "code",
        "colab": {}
      },
      "source": [
        "#Data Splitting into Train, Validaion and Testing\n",
        "from sklearn.model_selection import train_test_split\n",
        "X_train, X_val_and_test, Y_train, Y_val_and_test = train_test_split(X_scale, Y, test_size=0.3)\n",
        "X_val, X_test, Y_val, Y_test = train_test_split(X_val_and_test, Y_val_and_test, test_size=0.5)"
      ],
      "execution_count": 9,
      "outputs": []
    },
    {
      "cell_type": "code",
      "metadata": {
        "id": "FQEwRFnUcXpx",
        "colab_type": "code",
        "colab": {
          "base_uri": "https://localhost:8080/",
          "height": 34
        },
        "outputId": "344c2206-668a-4e80-91bf-c45d255a134f"
      },
      "source": [
        "#Getting the rows of all Train, Validation and testing\n",
        "print(X_train.shape, X_val.shape, X_test.shape, Y_train.shape, Y_val.shape, Y_test.shape)"
      ],
      "execution_count": 10,
      "outputs": [
        {
          "output_type": "stream",
          "text": [
            "(1022, 10) (219, 10) (219, 10) (1022,) (219,) (219,)\n"
          ],
          "name": "stdout"
        }
      ]
    },
    {
      "cell_type": "code",
      "metadata": {
        "id": "GHhOa32Hca4y",
        "colab_type": "code",
        "colab": {
          "base_uri": "https://localhost:8080/",
          "height": 153
        },
        "outputId": "28452f48-2ef1-45d3-c640-dcab22b7176f"
      },
      "source": [
        "#Keras is an open-source neural-network library written in Python. It is capable of running on top of TensorFlow, Microsoft Cognitive Toolkit, R, Theano, or PlaidML. \n",
        "#Designed to enable fast experimentation with deep neural networks, it focuses on being user-friendly, modular, and extensible\n",
        "\n",
        "#We will be using Keras to build Neural Network architecture using TensorFlow backend\n",
        "!pip install Keras"
      ],
      "execution_count": 11,
      "outputs": [
        {
          "output_type": "stream",
          "text": [
            "Requirement already satisfied: Keras in /usr/local/lib/python3.6/dist-packages (2.3.1)\n",
            "Requirement already satisfied: h5py in /usr/local/lib/python3.6/dist-packages (from Keras) (2.10.0)\n",
            "Requirement already satisfied: keras-preprocessing>=1.0.5 in /usr/local/lib/python3.6/dist-packages (from Keras) (1.1.2)\n",
            "Requirement already satisfied: numpy>=1.9.1 in /usr/local/lib/python3.6/dist-packages (from Keras) (1.18.5)\n",
            "Requirement already satisfied: six>=1.9.0 in /usr/local/lib/python3.6/dist-packages (from Keras) (1.15.0)\n",
            "Requirement already satisfied: pyyaml in /usr/local/lib/python3.6/dist-packages (from Keras) (3.13)\n",
            "Requirement already satisfied: keras-applications>=1.0.6 in /usr/local/lib/python3.6/dist-packages (from Keras) (1.0.8)\n",
            "Requirement already satisfied: scipy>=0.14 in /usr/local/lib/python3.6/dist-packages (from Keras) (1.4.1)\n"
          ],
          "name": "stdout"
        }
      ]
    },
    {
      "cell_type": "code",
      "metadata": {
        "id": "dVrbGj8NchzL",
        "colab_type": "code",
        "colab": {
          "base_uri": "https://localhost:8080/",
          "height": 666
        },
        "outputId": "d78ecaf5-3b4e-4312-cfb8-3335fdd6364e"
      },
      "source": [
        "#We need Tensorflow as Keras uses Tensorflow as backend\n",
        "!pip install tensorflow"
      ],
      "execution_count": 12,
      "outputs": [
        {
          "output_type": "stream",
          "text": [
            "Requirement already satisfied: tensorflow in /usr/local/lib/python3.6/dist-packages (2.2.0)\n",
            "Requirement already satisfied: astunparse==1.6.3 in /usr/local/lib/python3.6/dist-packages (from tensorflow) (1.6.3)\n",
            "Requirement already satisfied: wheel>=0.26; python_version >= \"3\" in /usr/local/lib/python3.6/dist-packages (from tensorflow) (0.34.2)\n",
            "Requirement already satisfied: gast==0.3.3 in /usr/local/lib/python3.6/dist-packages (from tensorflow) (0.3.3)\n",
            "Requirement already satisfied: google-pasta>=0.1.8 in /usr/local/lib/python3.6/dist-packages (from tensorflow) (0.2.0)\n",
            "Requirement already satisfied: numpy<2.0,>=1.16.0 in /usr/local/lib/python3.6/dist-packages (from tensorflow) (1.18.5)\n",
            "Requirement already satisfied: tensorboard<2.3.0,>=2.2.0 in /usr/local/lib/python3.6/dist-packages (from tensorflow) (2.2.2)\n",
            "Requirement already satisfied: absl-py>=0.7.0 in /usr/local/lib/python3.6/dist-packages (from tensorflow) (0.9.0)\n",
            "Requirement already satisfied: grpcio>=1.8.6 in /usr/local/lib/python3.6/dist-packages (from tensorflow) (1.30.0)\n",
            "Requirement already satisfied: scipy==1.4.1; python_version >= \"3\" in /usr/local/lib/python3.6/dist-packages (from tensorflow) (1.4.1)\n",
            "Requirement already satisfied: opt-einsum>=2.3.2 in /usr/local/lib/python3.6/dist-packages (from tensorflow) (3.3.0)\n",
            "Requirement already satisfied: h5py<2.11.0,>=2.10.0 in /usr/local/lib/python3.6/dist-packages (from tensorflow) (2.10.0)\n",
            "Requirement already satisfied: keras-preprocessing>=1.1.0 in /usr/local/lib/python3.6/dist-packages (from tensorflow) (1.1.2)\n",
            "Requirement already satisfied: protobuf>=3.8.0 in /usr/local/lib/python3.6/dist-packages (from tensorflow) (3.12.2)\n",
            "Requirement already satisfied: wrapt>=1.11.1 in /usr/local/lib/python3.6/dist-packages (from tensorflow) (1.12.1)\n",
            "Requirement already satisfied: six>=1.12.0 in /usr/local/lib/python3.6/dist-packages (from tensorflow) (1.15.0)\n",
            "Requirement already satisfied: tensorflow-estimator<2.3.0,>=2.2.0 in /usr/local/lib/python3.6/dist-packages (from tensorflow) (2.2.0)\n",
            "Requirement already satisfied: termcolor>=1.1.0 in /usr/local/lib/python3.6/dist-packages (from tensorflow) (1.1.0)\n",
            "Requirement already satisfied: werkzeug>=0.11.15 in /usr/local/lib/python3.6/dist-packages (from tensorboard<2.3.0,>=2.2.0->tensorflow) (1.0.1)\n",
            "Requirement already satisfied: requests<3,>=2.21.0 in /usr/local/lib/python3.6/dist-packages (from tensorboard<2.3.0,>=2.2.0->tensorflow) (2.23.0)\n",
            "Requirement already satisfied: tensorboard-plugin-wit>=1.6.0 in /usr/local/lib/python3.6/dist-packages (from tensorboard<2.3.0,>=2.2.0->tensorflow) (1.7.0)\n",
            "Requirement already satisfied: google-auth<2,>=1.6.3 in /usr/local/lib/python3.6/dist-packages (from tensorboard<2.3.0,>=2.2.0->tensorflow) (1.17.2)\n",
            "Requirement already satisfied: setuptools>=41.0.0 in /usr/local/lib/python3.6/dist-packages (from tensorboard<2.3.0,>=2.2.0->tensorflow) (49.1.0)\n",
            "Requirement already satisfied: google-auth-oauthlib<0.5,>=0.4.1 in /usr/local/lib/python3.6/dist-packages (from tensorboard<2.3.0,>=2.2.0->tensorflow) (0.4.1)\n",
            "Requirement already satisfied: markdown>=2.6.8 in /usr/local/lib/python3.6/dist-packages (from tensorboard<2.3.0,>=2.2.0->tensorflow) (3.2.2)\n",
            "Requirement already satisfied: idna<3,>=2.5 in /usr/local/lib/python3.6/dist-packages (from requests<3,>=2.21.0->tensorboard<2.3.0,>=2.2.0->tensorflow) (2.10)\n",
            "Requirement already satisfied: urllib3!=1.25.0,!=1.25.1,<1.26,>=1.21.1 in /usr/local/lib/python3.6/dist-packages (from requests<3,>=2.21.0->tensorboard<2.3.0,>=2.2.0->tensorflow) (1.24.3)\n",
            "Requirement already satisfied: certifi>=2017.4.17 in /usr/local/lib/python3.6/dist-packages (from requests<3,>=2.21.0->tensorboard<2.3.0,>=2.2.0->tensorflow) (2020.6.20)\n",
            "Requirement already satisfied: chardet<4,>=3.0.2 in /usr/local/lib/python3.6/dist-packages (from requests<3,>=2.21.0->tensorboard<2.3.0,>=2.2.0->tensorflow) (3.0.4)\n",
            "Requirement already satisfied: cachetools<5.0,>=2.0.0 in /usr/local/lib/python3.6/dist-packages (from google-auth<2,>=1.6.3->tensorboard<2.3.0,>=2.2.0->tensorflow) (4.1.1)\n",
            "Requirement already satisfied: rsa<5,>=3.1.4; python_version >= \"3\" in /usr/local/lib/python3.6/dist-packages (from google-auth<2,>=1.6.3->tensorboard<2.3.0,>=2.2.0->tensorflow) (4.6)\n",
            "Requirement already satisfied: pyasn1-modules>=0.2.1 in /usr/local/lib/python3.6/dist-packages (from google-auth<2,>=1.6.3->tensorboard<2.3.0,>=2.2.0->tensorflow) (0.2.8)\n",
            "Requirement already satisfied: requests-oauthlib>=0.7.0 in /usr/local/lib/python3.6/dist-packages (from google-auth-oauthlib<0.5,>=0.4.1->tensorboard<2.3.0,>=2.2.0->tensorflow) (1.3.0)\n",
            "Requirement already satisfied: importlib-metadata; python_version < \"3.8\" in /usr/local/lib/python3.6/dist-packages (from markdown>=2.6.8->tensorboard<2.3.0,>=2.2.0->tensorflow) (1.7.0)\n",
            "Requirement already satisfied: pyasn1>=0.1.3 in /usr/local/lib/python3.6/dist-packages (from rsa<5,>=3.1.4; python_version >= \"3\"->google-auth<2,>=1.6.3->tensorboard<2.3.0,>=2.2.0->tensorflow) (0.4.8)\n",
            "Requirement already satisfied: oauthlib>=3.0.0 in /usr/local/lib/python3.6/dist-packages (from requests-oauthlib>=0.7.0->google-auth-oauthlib<0.5,>=0.4.1->tensorboard<2.3.0,>=2.2.0->tensorflow) (3.1.0)\n",
            "Requirement already satisfied: zipp>=0.5 in /usr/local/lib/python3.6/dist-packages (from importlib-metadata; python_version < \"3.8\"->markdown>=2.6.8->tensorboard<2.3.0,>=2.2.0->tensorflow) (3.1.0)\n"
          ],
          "name": "stdout"
        }
      ]
    },
    {
      "cell_type": "code",
      "metadata": {
        "id": "pfDiLQHeclXW",
        "colab_type": "code",
        "colab": {
          "base_uri": "https://localhost:8080/",
          "height": 34
        },
        "outputId": "0bd3b55e-1051-41c6-be15-7d22ae18243b"
      },
      "source": [
        "#Importing required modules from Keras\n",
        "import keras\n",
        "from keras.models import Sequential\n",
        "from keras.layers import Dense, Dropout"
      ],
      "execution_count": 13,
      "outputs": [
        {
          "output_type": "stream",
          "text": [
            "Using TensorFlow backend.\n"
          ],
          "name": "stderr"
        }
      ]
    },
    {
      "cell_type": "code",
      "metadata": {
        "id": "6GIG18lAcp5y",
        "colab_type": "code",
        "colab": {
          "base_uri": "https://localhost:8080/",
          "height": 1000
        },
        "outputId": "0d81a7ab-102d-4ecb-f488-b8837dce2e56"
      },
      "source": [
        "#Model 1: Sequential Model\n",
        "#In Sequential Model, we need to describe the number of layers above in the sequence\n",
        "# Here we used 2 Hidden layers with 30 neurons (ReLU activation), and 1 output layer with 1 neuron (Sigmoid function)\n",
        "\n",
        "model = Sequential([\n",
        "    Dense(32, activation='relu', input_shape=(10,)),\n",
        "    Dense(32, activation='relu'),\n",
        "    Dense(1, activation='sigmoid'),\n",
        "])\n",
        "\n",
        "#Now, we got our architecture specified- we need to configure the model \n",
        "#optimizer=sgd (Stochastic gradient descent)\n",
        "#loss=binary_crossentropy (giving the type of loss function to use)\n",
        "#metrics=accuracy (Other metrics which you want to check apart from loss function)\n",
        "\n",
        "model.compile(optimizer='sgd',\n",
        "              loss='binary_crossentropy',\n",
        "              metrics=['accuracy'])\n",
        "\n",
        "\n",
        "#Fitting the model\n",
        "#epochs= tells how long we want to train the model\n",
        "\n",
        "hist = model.fit(X_train, Y_train,\n",
        "          batch_size=32, epochs=100,\n",
        "          validation_data=(X_val, Y_val))"
      ],
      "execution_count": 14,
      "outputs": [
        {
          "output_type": "stream",
          "text": [
            "Train on 1022 samples, validate on 219 samples\n",
            "Epoch 1/100\n",
            "1022/1022 [==============================] - 0s 388us/step - loss: 0.7304 - accuracy: 0.5078 - val_loss: 0.7271 - val_accuracy: 0.4886\n",
            "Epoch 2/100\n",
            "1022/1022 [==============================] - 0s 44us/step - loss: 0.7127 - accuracy: 0.5078 - val_loss: 0.7106 - val_accuracy: 0.4886\n",
            "Epoch 3/100\n",
            "1022/1022 [==============================] - 0s 54us/step - loss: 0.7002 - accuracy: 0.5059 - val_loss: 0.6995 - val_accuracy: 0.4886\n",
            "Epoch 4/100\n",
            "1022/1022 [==============================] - 0s 46us/step - loss: 0.6915 - accuracy: 0.5059 - val_loss: 0.6915 - val_accuracy: 0.4886\n",
            "Epoch 5/100\n",
            "1022/1022 [==============================] - 0s 47us/step - loss: 0.6850 - accuracy: 0.5049 - val_loss: 0.6852 - val_accuracy: 0.4886\n",
            "Epoch 6/100\n",
            "1022/1022 [==============================] - 0s 47us/step - loss: 0.6793 - accuracy: 0.5029 - val_loss: 0.6796 - val_accuracy: 0.5342\n",
            "Epoch 7/100\n",
            "1022/1022 [==============================] - 0s 47us/step - loss: 0.6740 - accuracy: 0.5802 - val_loss: 0.6743 - val_accuracy: 0.5982\n",
            "Epoch 8/100\n",
            "1022/1022 [==============================] - 0s 50us/step - loss: 0.6684 - accuracy: 0.6566 - val_loss: 0.6686 - val_accuracy: 0.6301\n",
            "Epoch 9/100\n",
            "1022/1022 [==============================] - 0s 52us/step - loss: 0.6619 - accuracy: 0.6761 - val_loss: 0.6618 - val_accuracy: 0.7078\n",
            "Epoch 10/100\n",
            "1022/1022 [==============================] - 0s 50us/step - loss: 0.6544 - accuracy: 0.7348 - val_loss: 0.6547 - val_accuracy: 0.7260\n",
            "Epoch 11/100\n",
            "1022/1022 [==============================] - 0s 47us/step - loss: 0.6468 - accuracy: 0.7710 - val_loss: 0.6480 - val_accuracy: 0.7397\n",
            "Epoch 12/100\n",
            "1022/1022 [==============================] - 0s 46us/step - loss: 0.6398 - accuracy: 0.7916 - val_loss: 0.6415 - val_accuracy: 0.7443\n",
            "Epoch 13/100\n",
            "1022/1022 [==============================] - 0s 54us/step - loss: 0.6331 - accuracy: 0.8131 - val_loss: 0.6351 - val_accuracy: 0.7671\n",
            "Epoch 14/100\n",
            "1022/1022 [==============================] - 0s 47us/step - loss: 0.6264 - accuracy: 0.8327 - val_loss: 0.6283 - val_accuracy: 0.7763\n",
            "Epoch 15/100\n",
            "1022/1022 [==============================] - 0s 52us/step - loss: 0.6195 - accuracy: 0.8346 - val_loss: 0.6212 - val_accuracy: 0.8082\n",
            "Epoch 16/100\n",
            "1022/1022 [==============================] - 0s 50us/step - loss: 0.6125 - accuracy: 0.8395 - val_loss: 0.6141 - val_accuracy: 0.8037\n",
            "Epoch 17/100\n",
            "1022/1022 [==============================] - 0s 50us/step - loss: 0.6050 - accuracy: 0.8444 - val_loss: 0.6064 - val_accuracy: 0.8128\n",
            "Epoch 18/100\n",
            "1022/1022 [==============================] - 0s 54us/step - loss: 0.5972 - accuracy: 0.8425 - val_loss: 0.5986 - val_accuracy: 0.8219\n",
            "Epoch 19/100\n",
            "1022/1022 [==============================] - 0s 48us/step - loss: 0.5890 - accuracy: 0.8503 - val_loss: 0.5903 - val_accuracy: 0.8219\n",
            "Epoch 20/100\n",
            "1022/1022 [==============================] - 0s 49us/step - loss: 0.5805 - accuracy: 0.8562 - val_loss: 0.5823 - val_accuracy: 0.8174\n",
            "Epoch 21/100\n",
            "1022/1022 [==============================] - 0s 48us/step - loss: 0.5718 - accuracy: 0.8532 - val_loss: 0.5739 - val_accuracy: 0.8174\n",
            "Epoch 22/100\n",
            "1022/1022 [==============================] - 0s 49us/step - loss: 0.5630 - accuracy: 0.8454 - val_loss: 0.5647 - val_accuracy: 0.8311\n",
            "Epoch 23/100\n",
            "1022/1022 [==============================] - 0s 45us/step - loss: 0.5540 - accuracy: 0.8523 - val_loss: 0.5556 - val_accuracy: 0.8402\n",
            "Epoch 24/100\n",
            "1022/1022 [==============================] - 0s 48us/step - loss: 0.5447 - accuracy: 0.8542 - val_loss: 0.5464 - val_accuracy: 0.8493\n",
            "Epoch 25/100\n",
            "1022/1022 [==============================] - 0s 50us/step - loss: 0.5352 - accuracy: 0.8552 - val_loss: 0.5376 - val_accuracy: 0.8493\n",
            "Epoch 26/100\n",
            "1022/1022 [==============================] - 0s 49us/step - loss: 0.5255 - accuracy: 0.8532 - val_loss: 0.5282 - val_accuracy: 0.8493\n",
            "Epoch 27/100\n",
            "1022/1022 [==============================] - 0s 51us/step - loss: 0.5158 - accuracy: 0.8571 - val_loss: 0.5188 - val_accuracy: 0.8493\n",
            "Epoch 28/100\n",
            "1022/1022 [==============================] - 0s 54us/step - loss: 0.5059 - accuracy: 0.8591 - val_loss: 0.5088 - val_accuracy: 0.8493\n",
            "Epoch 29/100\n",
            "1022/1022 [==============================] - 0s 53us/step - loss: 0.4960 - accuracy: 0.8562 - val_loss: 0.4995 - val_accuracy: 0.8493\n",
            "Epoch 30/100\n",
            "1022/1022 [==============================] - 0s 52us/step - loss: 0.4863 - accuracy: 0.8562 - val_loss: 0.4908 - val_accuracy: 0.8493\n",
            "Epoch 31/100\n",
            "1022/1022 [==============================] - 0s 50us/step - loss: 0.4760 - accuracy: 0.8679 - val_loss: 0.4806 - val_accuracy: 0.8447\n",
            "Epoch 32/100\n",
            "1022/1022 [==============================] - 0s 50us/step - loss: 0.4668 - accuracy: 0.8552 - val_loss: 0.4725 - val_accuracy: 0.8493\n",
            "Epoch 33/100\n",
            "1022/1022 [==============================] - 0s 49us/step - loss: 0.4576 - accuracy: 0.8581 - val_loss: 0.4642 - val_accuracy: 0.8493\n",
            "Epoch 34/100\n",
            "1022/1022 [==============================] - 0s 47us/step - loss: 0.4482 - accuracy: 0.8611 - val_loss: 0.4548 - val_accuracy: 0.8493\n",
            "Epoch 35/100\n",
            "1022/1022 [==============================] - 0s 48us/step - loss: 0.4391 - accuracy: 0.8659 - val_loss: 0.4474 - val_accuracy: 0.8493\n",
            "Epoch 36/100\n",
            "1022/1022 [==============================] - 0s 48us/step - loss: 0.4304 - accuracy: 0.8669 - val_loss: 0.4399 - val_accuracy: 0.8493\n",
            "Epoch 37/100\n",
            "1022/1022 [==============================] - 0s 52us/step - loss: 0.4221 - accuracy: 0.8679 - val_loss: 0.4309 - val_accuracy: 0.8447\n",
            "Epoch 38/100\n",
            "1022/1022 [==============================] - 0s 43us/step - loss: 0.4140 - accuracy: 0.8659 - val_loss: 0.4239 - val_accuracy: 0.8493\n",
            "Epoch 39/100\n",
            "1022/1022 [==============================] - 0s 46us/step - loss: 0.4067 - accuracy: 0.8650 - val_loss: 0.4180 - val_accuracy: 0.8493\n",
            "Epoch 40/100\n",
            "1022/1022 [==============================] - 0s 49us/step - loss: 0.3987 - accuracy: 0.8659 - val_loss: 0.4103 - val_accuracy: 0.8584\n",
            "Epoch 41/100\n",
            "1022/1022 [==============================] - 0s 69us/step - loss: 0.3921 - accuracy: 0.8650 - val_loss: 0.4046 - val_accuracy: 0.8584\n",
            "Epoch 42/100\n",
            "1022/1022 [==============================] - 0s 50us/step - loss: 0.3853 - accuracy: 0.8679 - val_loss: 0.3986 - val_accuracy: 0.8584\n",
            "Epoch 43/100\n",
            "1022/1022 [==============================] - 0s 52us/step - loss: 0.3789 - accuracy: 0.8669 - val_loss: 0.3953 - val_accuracy: 0.8447\n",
            "Epoch 44/100\n",
            "1022/1022 [==============================] - 0s 49us/step - loss: 0.3733 - accuracy: 0.8699 - val_loss: 0.3882 - val_accuracy: 0.8584\n",
            "Epoch 45/100\n",
            "1022/1022 [==============================] - 0s 49us/step - loss: 0.3677 - accuracy: 0.8718 - val_loss: 0.3833 - val_accuracy: 0.8584\n",
            "Epoch 46/100\n",
            "1022/1022 [==============================] - 0s 51us/step - loss: 0.3627 - accuracy: 0.8699 - val_loss: 0.3789 - val_accuracy: 0.8584\n",
            "Epoch 47/100\n",
            "1022/1022 [==============================] - 0s 54us/step - loss: 0.3578 - accuracy: 0.8708 - val_loss: 0.3748 - val_accuracy: 0.8584\n",
            "Epoch 48/100\n",
            "1022/1022 [==============================] - 0s 50us/step - loss: 0.3531 - accuracy: 0.8699 - val_loss: 0.3714 - val_accuracy: 0.8584\n",
            "Epoch 49/100\n",
            "1022/1022 [==============================] - 0s 46us/step - loss: 0.3488 - accuracy: 0.8728 - val_loss: 0.3671 - val_accuracy: 0.8584\n",
            "Epoch 50/100\n",
            "1022/1022 [==============================] - 0s 50us/step - loss: 0.3442 - accuracy: 0.8728 - val_loss: 0.3668 - val_accuracy: 0.8539\n",
            "Epoch 51/100\n",
            "1022/1022 [==============================] - 0s 49us/step - loss: 0.3408 - accuracy: 0.8767 - val_loss: 0.3608 - val_accuracy: 0.8539\n",
            "Epoch 52/100\n",
            "1022/1022 [==============================] - 0s 49us/step - loss: 0.3374 - accuracy: 0.8748 - val_loss: 0.3581 - val_accuracy: 0.8539\n",
            "Epoch 53/100\n",
            "1022/1022 [==============================] - 0s 50us/step - loss: 0.3345 - accuracy: 0.8728 - val_loss: 0.3560 - val_accuracy: 0.8630\n",
            "Epoch 54/100\n",
            "1022/1022 [==============================] - 0s 53us/step - loss: 0.3310 - accuracy: 0.8767 - val_loss: 0.3529 - val_accuracy: 0.8584\n",
            "Epoch 55/100\n",
            "1022/1022 [==============================] - 0s 49us/step - loss: 0.3279 - accuracy: 0.8767 - val_loss: 0.3514 - val_accuracy: 0.8630\n",
            "Epoch 56/100\n",
            "1022/1022 [==============================] - 0s 55us/step - loss: 0.3251 - accuracy: 0.8728 - val_loss: 0.3468 - val_accuracy: 0.8676\n",
            "Epoch 57/100\n",
            "1022/1022 [==============================] - 0s 46us/step - loss: 0.3224 - accuracy: 0.8728 - val_loss: 0.3471 - val_accuracy: 0.8676\n",
            "Epoch 58/100\n",
            "1022/1022 [==============================] - 0s 51us/step - loss: 0.3201 - accuracy: 0.8757 - val_loss: 0.3438 - val_accuracy: 0.8539\n",
            "Epoch 59/100\n",
            "1022/1022 [==============================] - 0s 55us/step - loss: 0.3175 - accuracy: 0.8796 - val_loss: 0.3420 - val_accuracy: 0.8630\n",
            "Epoch 60/100\n",
            "1022/1022 [==============================] - 0s 50us/step - loss: 0.3152 - accuracy: 0.8787 - val_loss: 0.3418 - val_accuracy: 0.8721\n",
            "Epoch 61/100\n",
            "1022/1022 [==============================] - 0s 49us/step - loss: 0.3129 - accuracy: 0.8796 - val_loss: 0.3386 - val_accuracy: 0.8630\n",
            "Epoch 62/100\n",
            "1022/1022 [==============================] - 0s 46us/step - loss: 0.3109 - accuracy: 0.8787 - val_loss: 0.3361 - val_accuracy: 0.8584\n",
            "Epoch 63/100\n",
            "1022/1022 [==============================] - 0s 49us/step - loss: 0.3095 - accuracy: 0.8767 - val_loss: 0.3349 - val_accuracy: 0.8584\n",
            "Epoch 64/100\n",
            "1022/1022 [==============================] - 0s 48us/step - loss: 0.3071 - accuracy: 0.8796 - val_loss: 0.3338 - val_accuracy: 0.8676\n",
            "Epoch 65/100\n",
            "1022/1022 [==============================] - 0s 47us/step - loss: 0.3051 - accuracy: 0.8826 - val_loss: 0.3313 - val_accuracy: 0.8676\n",
            "Epoch 66/100\n",
            "1022/1022 [==============================] - 0s 55us/step - loss: 0.3041 - accuracy: 0.8796 - val_loss: 0.3306 - val_accuracy: 0.8630\n",
            "Epoch 67/100\n",
            "1022/1022 [==============================] - 0s 54us/step - loss: 0.3023 - accuracy: 0.8816 - val_loss: 0.3291 - val_accuracy: 0.8630\n",
            "Epoch 68/100\n",
            "1022/1022 [==============================] - 0s 52us/step - loss: 0.3009 - accuracy: 0.8816 - val_loss: 0.3296 - val_accuracy: 0.8767\n",
            "Epoch 69/100\n",
            "1022/1022 [==============================] - 0s 57us/step - loss: 0.2995 - accuracy: 0.8777 - val_loss: 0.3267 - val_accuracy: 0.8630\n",
            "Epoch 70/100\n",
            "1022/1022 [==============================] - 0s 50us/step - loss: 0.2978 - accuracy: 0.8806 - val_loss: 0.3256 - val_accuracy: 0.8630\n",
            "Epoch 71/100\n",
            "1022/1022 [==============================] - 0s 44us/step - loss: 0.2957 - accuracy: 0.8816 - val_loss: 0.3243 - val_accuracy: 0.8676\n",
            "Epoch 72/100\n",
            "1022/1022 [==============================] - 0s 46us/step - loss: 0.2947 - accuracy: 0.8816 - val_loss: 0.3222 - val_accuracy: 0.8813\n",
            "Epoch 73/100\n",
            "1022/1022 [==============================] - 0s 46us/step - loss: 0.2935 - accuracy: 0.8816 - val_loss: 0.3228 - val_accuracy: 0.8721\n",
            "Epoch 74/100\n",
            "1022/1022 [==============================] - 0s 46us/step - loss: 0.2916 - accuracy: 0.8816 - val_loss: 0.3198 - val_accuracy: 0.8813\n",
            "Epoch 75/100\n",
            "1022/1022 [==============================] - 0s 53us/step - loss: 0.2908 - accuracy: 0.8767 - val_loss: 0.3191 - val_accuracy: 0.8858\n",
            "Epoch 76/100\n",
            "1022/1022 [==============================] - 0s 50us/step - loss: 0.2894 - accuracy: 0.8816 - val_loss: 0.3203 - val_accuracy: 0.8721\n",
            "Epoch 77/100\n",
            "1022/1022 [==============================] - 0s 48us/step - loss: 0.2890 - accuracy: 0.8836 - val_loss: 0.3183 - val_accuracy: 0.8767\n",
            "Epoch 78/100\n",
            "1022/1022 [==============================] - 0s 46us/step - loss: 0.2877 - accuracy: 0.8845 - val_loss: 0.3177 - val_accuracy: 0.8767\n",
            "Epoch 79/100\n",
            "1022/1022 [==============================] - 0s 47us/step - loss: 0.2842 - accuracy: 0.8875 - val_loss: 0.3147 - val_accuracy: 0.8721\n",
            "Epoch 80/100\n",
            "1022/1022 [==============================] - 0s 46us/step - loss: 0.2851 - accuracy: 0.8787 - val_loss: 0.3140 - val_accuracy: 0.8858\n",
            "Epoch 81/100\n",
            "1022/1022 [==============================] - 0s 49us/step - loss: 0.2847 - accuracy: 0.8836 - val_loss: 0.3139 - val_accuracy: 0.8813\n",
            "Epoch 82/100\n",
            "1022/1022 [==============================] - 0s 47us/step - loss: 0.2833 - accuracy: 0.8855 - val_loss: 0.3123 - val_accuracy: 0.8858\n",
            "Epoch 83/100\n",
            "1022/1022 [==============================] - 0s 48us/step - loss: 0.2826 - accuracy: 0.8836 - val_loss: 0.3115 - val_accuracy: 0.8858\n",
            "Epoch 84/100\n",
            "1022/1022 [==============================] - 0s 49us/step - loss: 0.2809 - accuracy: 0.8845 - val_loss: 0.3111 - val_accuracy: 0.8813\n",
            "Epoch 85/100\n",
            "1022/1022 [==============================] - 0s 51us/step - loss: 0.2803 - accuracy: 0.8855 - val_loss: 0.3122 - val_accuracy: 0.8767\n",
            "Epoch 86/100\n",
            "1022/1022 [==============================] - 0s 48us/step - loss: 0.2795 - accuracy: 0.8865 - val_loss: 0.3086 - val_accuracy: 0.8858\n",
            "Epoch 87/100\n",
            "1022/1022 [==============================] - 0s 52us/step - loss: 0.2783 - accuracy: 0.8836 - val_loss: 0.3079 - val_accuracy: 0.8858\n",
            "Epoch 88/100\n",
            "1022/1022 [==============================] - 0s 48us/step - loss: 0.2779 - accuracy: 0.8855 - val_loss: 0.3079 - val_accuracy: 0.8813\n",
            "Epoch 89/100\n",
            "1022/1022 [==============================] - 0s 48us/step - loss: 0.2767 - accuracy: 0.8855 - val_loss: 0.3061 - val_accuracy: 0.8858\n",
            "Epoch 90/100\n",
            "1022/1022 [==============================] - 0s 55us/step - loss: 0.2757 - accuracy: 0.8855 - val_loss: 0.3053 - val_accuracy: 0.8858\n",
            "Epoch 91/100\n",
            "1022/1022 [==============================] - 0s 44us/step - loss: 0.2756 - accuracy: 0.8855 - val_loss: 0.3044 - val_accuracy: 0.8858\n",
            "Epoch 92/100\n",
            "1022/1022 [==============================] - 0s 44us/step - loss: 0.2737 - accuracy: 0.8865 - val_loss: 0.3069 - val_accuracy: 0.8767\n",
            "Epoch 93/100\n",
            "1022/1022 [==============================] - 0s 45us/step - loss: 0.2742 - accuracy: 0.8855 - val_loss: 0.3031 - val_accuracy: 0.8858\n",
            "Epoch 94/100\n",
            "1022/1022 [==============================] - 0s 47us/step - loss: 0.2732 - accuracy: 0.8894 - val_loss: 0.3022 - val_accuracy: 0.8858\n",
            "Epoch 95/100\n",
            "1022/1022 [==============================] - 0s 50us/step - loss: 0.2718 - accuracy: 0.8875 - val_loss: 0.3025 - val_accuracy: 0.8813\n",
            "Epoch 96/100\n",
            "1022/1022 [==============================] - 0s 54us/step - loss: 0.2712 - accuracy: 0.8885 - val_loss: 0.3005 - val_accuracy: 0.8858\n",
            "Epoch 97/100\n",
            "1022/1022 [==============================] - 0s 47us/step - loss: 0.2712 - accuracy: 0.8855 - val_loss: 0.3009 - val_accuracy: 0.8813\n",
            "Epoch 98/100\n",
            "1022/1022 [==============================] - 0s 50us/step - loss: 0.2701 - accuracy: 0.8885 - val_loss: 0.3023 - val_accuracy: 0.8858\n",
            "Epoch 99/100\n",
            "1022/1022 [==============================] - 0s 47us/step - loss: 0.2695 - accuracy: 0.8894 - val_loss: 0.2996 - val_accuracy: 0.8813\n",
            "Epoch 100/100\n",
            "1022/1022 [==============================] - 0s 48us/step - loss: 0.2686 - accuracy: 0.8904 - val_loss: 0.2982 - val_accuracy: 0.8858\n"
          ],
          "name": "stdout"
        }
      ]
    },
    {
      "cell_type": "code",
      "metadata": {
        "id": "tJXj6J53cwLB",
        "colab_type": "code",
        "colab": {
          "base_uri": "https://localhost:8080/",
          "height": 51
        },
        "outputId": "0b24c994-8642-462b-9ea5-0e644ae5ad4b"
      },
      "source": [
        "model.evaluate(X_test, Y_test)[1]"
      ],
      "execution_count": 15,
      "outputs": [
        {
          "output_type": "stream",
          "text": [
            "219/219 [==============================] - 0s 64us/step\n"
          ],
          "name": "stdout"
        },
        {
          "output_type": "execute_result",
          "data": {
            "text/plain": [
              "0.8630136847496033"
            ]
          },
          "metadata": {
            "tags": []
          },
          "execution_count": 15
        }
      ]
    },
    {
      "cell_type": "code",
      "metadata": {
        "id": "pGawqacBc0WH",
        "colab_type": "code",
        "colab": {
          "base_uri": "https://localhost:8080/",
          "height": 295
        },
        "outputId": "8899ccf4-e0ec-4bb9-e9a6-bd88876a8a6f"
      },
      "source": [
        "import matplotlib.pyplot as plt\n",
        "\n",
        "plt.plot(hist.history['loss'])\n",
        "plt.plot(hist.history['val_loss'])\n",
        "plt.title('Model loss')\n",
        "plt.ylabel('Loss')\n",
        "plt.xlabel('Epoch')\n",
        "plt.legend(['Train', 'Val'], loc='upper right')\n",
        "plt.show()"
      ],
      "execution_count": 16,
      "outputs": [
        {
          "output_type": "display_data",
          "data": {
            "image/png": "[encoded data removed]",
            "text/plain": [
              "<Figure size 432x288 with 1 Axes>"
            ]
          },
          "metadata": {
            "tags": [],
            "needs_background": "light"
          }
        }
      ]
    },
    {
      "cell_type": "code",
      "metadata": {
        "id": "d58MXuwuc3ZR",
        "colab_type": "code",
        "colab": {
          "base_uri": "https://localhost:8080/",
          "height": 295
        },
        "outputId": "def03801-6ab9-496b-9875-4575a2862367"
      },
      "source": [
        "plt.plot(hist.history['accuracy'])\n",
        "plt.plot(hist.history['val_accuracy'])\n",
        "plt.title('Model accuracy')\n",
        "plt.ylabel('Accuracy')\n",
        "plt.xlabel('Epoch')\n",
        "plt.legend(['Train', 'Val'], loc='lower right')\n",
        "plt.show()"
      ],
      "execution_count": 17,
      "outputs": [
        {
          "output_type": "display_data",
          "data": {
            "image/png": "[encoded data removed]",
            "text/plain": [
              "<Figure size 432x288 with 1 Axes>"
            ]
          },
          "metadata": {
            "tags": [],
            "needs_background": "light"
          }
        }
      ]
    },
    {
      "cell_type": "code",
      "metadata": {
        "id": "k2t-OzH7dJo1",
        "colab_type": "code",
        "colab": {
          "base_uri": "https://localhost:8080/",
          "height": 1000
        },
        "outputId": "b8216bfd-a66a-446f-fabf-ed0e29e62e16"
      },
      "source": [
        "#Model 2: Training model with many hidden layers to check whether the model will overfit\n",
        "#Purpose of this model is to built complex model that will overfit (Complex model is built with many hidden layers )\n",
        "\n",
        "model_2 = Sequential([\n",
        "    Dense(1000, activation='relu', input_shape=(10,)),\n",
        "    Dense(1000, activation='relu'),\n",
        "    Dense(1000, activation='relu'),\n",
        "    Dense(1000, activation='relu'),\n",
        "    Dense(1, activation='sigmoid'),\n",
        "])\n",
        "model_2.compile(optimizer='adam',\n",
        "              loss='binary_crossentropy',\n",
        "              metrics=['accuracy'])\n",
        "hist_2 = model_2.fit(X_train, Y_train,\n",
        "          batch_size=32, epochs=100,\n",
        "          validation_data=(X_val, Y_val))"
      ],
      "execution_count": 18,
      "outputs": [
        {
          "output_type": "stream",
          "text": [
            "Train on 1022 samples, validate on 219 samples\n",
            "Epoch 1/100\n",
            "1022/1022 [==============================] - 2s 2ms/step - loss: 0.4782 - accuracy: 0.7935 - val_loss: 0.3796 - val_accuracy: 0.8584\n",
            "Epoch 2/100\n",
            "1022/1022 [==============================] - 2s 2ms/step - loss: 0.3400 - accuracy: 0.8601 - val_loss: 0.3435 - val_accuracy: 0.8584\n",
            "Epoch 3/100\n",
            "1022/1022 [==============================] - 2s 2ms/step - loss: 0.3051 - accuracy: 0.8728 - val_loss: 0.2985 - val_accuracy: 0.8950\n",
            "Epoch 4/100\n",
            "1022/1022 [==============================] - 2s 2ms/step - loss: 0.3111 - accuracy: 0.8630 - val_loss: 0.3306 - val_accuracy: 0.8721\n",
            "Epoch 5/100\n",
            "1022/1022 [==============================] - 2s 2ms/step - loss: 0.2966 - accuracy: 0.8699 - val_loss: 0.3002 - val_accuracy: 0.8904\n",
            "Epoch 6/100\n",
            "1022/1022 [==============================] - 2s 2ms/step - loss: 0.2984 - accuracy: 0.8767 - val_loss: 0.3153 - val_accuracy: 0.8904\n",
            "Epoch 7/100\n",
            "1022/1022 [==============================] - 2s 2ms/step - loss: 0.2613 - accuracy: 0.8933 - val_loss: 0.2963 - val_accuracy: 0.9132\n",
            "Epoch 8/100\n",
            "1022/1022 [==============================] - 2s 2ms/step - loss: 0.2366 - accuracy: 0.9061 - val_loss: 0.3233 - val_accuracy: 0.8767\n",
            "Epoch 9/100\n",
            "1022/1022 [==============================] - 2s 2ms/step - loss: 0.2443 - accuracy: 0.8885 - val_loss: 0.2978 - val_accuracy: 0.9087\n",
            "Epoch 10/100\n",
            "1022/1022 [==============================] - 2s 2ms/step - loss: 0.2533 - accuracy: 0.9061 - val_loss: 0.3085 - val_accuracy: 0.8904\n",
            "Epoch 11/100\n",
            "1022/1022 [==============================] - 2s 2ms/step - loss: 0.2282 - accuracy: 0.9051 - val_loss: 0.2946 - val_accuracy: 0.8995\n",
            "Epoch 12/100\n",
            "1022/1022 [==============================] - 2s 2ms/step - loss: 0.2130 - accuracy: 0.9080 - val_loss: 0.3101 - val_accuracy: 0.9087\n",
            "Epoch 13/100\n",
            "1022/1022 [==============================] - 2s 2ms/step - loss: 0.2116 - accuracy: 0.9100 - val_loss: 0.3383 - val_accuracy: 0.9132\n",
            "Epoch 14/100\n",
            "1022/1022 [==============================] - 2s 2ms/step - loss: 0.2128 - accuracy: 0.9061 - val_loss: 0.3057 - val_accuracy: 0.9224\n",
            "Epoch 15/100\n",
            "1022/1022 [==============================] - 2s 2ms/step - loss: 0.2133 - accuracy: 0.9188 - val_loss: 0.3621 - val_accuracy: 0.9132\n",
            "Epoch 16/100\n",
            "1022/1022 [==============================] - 2s 2ms/step - loss: 0.1996 - accuracy: 0.9149 - val_loss: 0.3714 - val_accuracy: 0.8813\n",
            "Epoch 17/100\n",
            "1022/1022 [==============================] - 2s 2ms/step - loss: 0.2478 - accuracy: 0.9002 - val_loss: 0.3049 - val_accuracy: 0.9041\n",
            "Epoch 18/100\n",
            "1022/1022 [==============================] - 2s 2ms/step - loss: 0.2239 - accuracy: 0.9090 - val_loss: 0.3290 - val_accuracy: 0.9087\n",
            "Epoch 19/100\n",
            "1022/1022 [==============================] - 2s 2ms/step - loss: 0.2297 - accuracy: 0.9012 - val_loss: 0.2982 - val_accuracy: 0.9269\n",
            "Epoch 20/100\n",
            "1022/1022 [==============================] - 2s 2ms/step - loss: 0.2021 - accuracy: 0.9090 - val_loss: 0.3084 - val_accuracy: 0.9269\n",
            "Epoch 21/100\n",
            "1022/1022 [==============================] - 2s 2ms/step - loss: 0.2057 - accuracy: 0.9159 - val_loss: 0.3397 - val_accuracy: 0.9041\n",
            "Epoch 22/100\n",
            "1022/1022 [==============================] - 2s 2ms/step - loss: 0.2166 - accuracy: 0.9031 - val_loss: 0.3631 - val_accuracy: 0.8950\n",
            "Epoch 23/100\n",
            "1022/1022 [==============================] - 2s 2ms/step - loss: 0.2139 - accuracy: 0.9129 - val_loss: 0.3353 - val_accuracy: 0.8950\n",
            "Epoch 24/100\n",
            "1022/1022 [==============================] - 2s 2ms/step - loss: 0.2198 - accuracy: 0.8992 - val_loss: 0.3186 - val_accuracy: 0.8995\n",
            "Epoch 25/100\n",
            "1022/1022 [==============================] - 2s 2ms/step - loss: 0.2257 - accuracy: 0.9090 - val_loss: 0.3248 - val_accuracy: 0.8995\n",
            "Epoch 26/100\n",
            "1022/1022 [==============================] - 2s 2ms/step - loss: 0.1898 - accuracy: 0.9217 - val_loss: 0.3416 - val_accuracy: 0.8858\n",
            "Epoch 27/100\n",
            "1022/1022 [==============================] - 2s 2ms/step - loss: 0.1991 - accuracy: 0.9119 - val_loss: 0.3250 - val_accuracy: 0.9269\n",
            "Epoch 28/100\n",
            "1022/1022 [==============================] - 2s 2ms/step - loss: 0.1908 - accuracy: 0.9237 - val_loss: 0.3398 - val_accuracy: 0.9224\n",
            "Epoch 29/100\n",
            "1022/1022 [==============================] - 2s 2ms/step - loss: 0.1940 - accuracy: 0.9207 - val_loss: 0.3396 - val_accuracy: 0.9087\n",
            "Epoch 30/100\n",
            "1022/1022 [==============================] - 2s 2ms/step - loss: 0.2058 - accuracy: 0.9188 - val_loss: 0.3293 - val_accuracy: 0.8950\n",
            "Epoch 31/100\n",
            "1022/1022 [==============================] - 2s 2ms/step - loss: 0.1959 - accuracy: 0.9207 - val_loss: 0.3406 - val_accuracy: 0.8950\n",
            "Epoch 32/100\n",
            "1022/1022 [==============================] - 2s 2ms/step - loss: 0.2012 - accuracy: 0.9119 - val_loss: 0.3226 - val_accuracy: 0.9315\n",
            "Epoch 33/100\n",
            "1022/1022 [==============================] - 2s 2ms/step - loss: 0.1859 - accuracy: 0.9237 - val_loss: 0.3830 - val_accuracy: 0.9041\n",
            "Epoch 34/100\n",
            "1022/1022 [==============================] - 2s 2ms/step - loss: 0.1959 - accuracy: 0.9119 - val_loss: 0.3496 - val_accuracy: 0.8950\n",
            "Epoch 35/100\n",
            "1022/1022 [==============================] - 2s 2ms/step - loss: 0.1930 - accuracy: 0.9168 - val_loss: 0.3541 - val_accuracy: 0.8995\n",
            "Epoch 36/100\n",
            "1022/1022 [==============================] - 2s 2ms/step - loss: 0.1871 - accuracy: 0.9237 - val_loss: 0.3378 - val_accuracy: 0.8950\n",
            "Epoch 37/100\n",
            "1022/1022 [==============================] - 2s 2ms/step - loss: 0.2016 - accuracy: 0.9149 - val_loss: 0.3346 - val_accuracy: 0.9269\n",
            "Epoch 38/100\n",
            "1022/1022 [==============================] - 2s 2ms/step - loss: 0.1925 - accuracy: 0.9129 - val_loss: 0.3161 - val_accuracy: 0.9315\n",
            "Epoch 39/100\n",
            "1022/1022 [==============================] - 2s 2ms/step - loss: 0.1765 - accuracy: 0.9276 - val_loss: 0.4027 - val_accuracy: 0.8950\n",
            "Epoch 40/100\n",
            "1022/1022 [==============================] - 2s 2ms/step - loss: 0.1847 - accuracy: 0.9247 - val_loss: 0.3394 - val_accuracy: 0.9132\n",
            "Epoch 41/100\n",
            "1022/1022 [==============================] - 2s 2ms/step - loss: 0.1902 - accuracy: 0.9188 - val_loss: 0.3712 - val_accuracy: 0.8950\n",
            "Epoch 42/100\n",
            "1022/1022 [==============================] - 2s 2ms/step - loss: 0.1871 - accuracy: 0.9266 - val_loss: 0.3107 - val_accuracy: 0.9224\n",
            "Epoch 43/100\n",
            "1022/1022 [==============================] - 2s 2ms/step - loss: 0.1844 - accuracy: 0.9207 - val_loss: 0.3059 - val_accuracy: 0.9224\n",
            "Epoch 44/100\n",
            "1022/1022 [==============================] - 2s 2ms/step - loss: 0.1929 - accuracy: 0.9139 - val_loss: 0.3252 - val_accuracy: 0.9178\n",
            "Epoch 45/100\n",
            "1022/1022 [==============================] - 2s 2ms/step - loss: 0.1961 - accuracy: 0.9237 - val_loss: 0.3454 - val_accuracy: 0.9361\n",
            "Epoch 46/100\n",
            "1022/1022 [==============================] - 2s 2ms/step - loss: 0.2063 - accuracy: 0.9051 - val_loss: 0.3507 - val_accuracy: 0.9315\n",
            "Epoch 47/100\n",
            "1022/1022 [==============================] - 2s 2ms/step - loss: 0.1754 - accuracy: 0.9266 - val_loss: 0.3474 - val_accuracy: 0.8995\n",
            "Epoch 48/100\n",
            "1022/1022 [==============================] - 2s 2ms/step - loss: 0.1999 - accuracy: 0.9217 - val_loss: 0.3213 - val_accuracy: 0.9087\n",
            "Epoch 49/100\n",
            "1022/1022 [==============================] - 2s 2ms/step - loss: 0.1709 - accuracy: 0.9247 - val_loss: 0.3315 - val_accuracy: 0.9178\n",
            "Epoch 50/100\n",
            "1022/1022 [==============================] - 2s 2ms/step - loss: 0.1655 - accuracy: 0.9344 - val_loss: 0.3481 - val_accuracy: 0.9087\n",
            "Epoch 51/100\n",
            "1022/1022 [==============================] - 2s 2ms/step - loss: 0.1722 - accuracy: 0.9256 - val_loss: 0.3820 - val_accuracy: 0.8950\n",
            "Epoch 52/100\n",
            "1022/1022 [==============================] - 2s 2ms/step - loss: 0.1732 - accuracy: 0.9256 - val_loss: 0.3308 - val_accuracy: 0.9132\n",
            "Epoch 53/100\n",
            "1022/1022 [==============================] - 2s 2ms/step - loss: 0.1667 - accuracy: 0.9315 - val_loss: 0.3544 - val_accuracy: 0.9041\n",
            "Epoch 54/100\n",
            "1022/1022 [==============================] - 2s 2ms/step - loss: 0.1748 - accuracy: 0.9188 - val_loss: 0.3378 - val_accuracy: 0.9224\n",
            "Epoch 55/100\n",
            "1022/1022 [==============================] - 2s 2ms/step - loss: 0.1456 - accuracy: 0.9393 - val_loss: 0.4185 - val_accuracy: 0.9087\n",
            "Epoch 56/100\n",
            "1022/1022 [==============================] - 2s 2ms/step - loss: 0.1651 - accuracy: 0.9315 - val_loss: 0.3410 - val_accuracy: 0.9178\n",
            "Epoch 57/100\n",
            "1022/1022 [==============================] - 2s 2ms/step - loss: 0.1655 - accuracy: 0.9276 - val_loss: 0.4530 - val_accuracy: 0.8813\n",
            "Epoch 58/100\n",
            "1022/1022 [==============================] - 2s 2ms/step - loss: 0.1682 - accuracy: 0.9256 - val_loss: 0.4004 - val_accuracy: 0.8995\n",
            "Epoch 59/100\n",
            "1022/1022 [==============================] - 2s 2ms/step - loss: 0.1680 - accuracy: 0.9237 - val_loss: 0.3411 - val_accuracy: 0.8995\n",
            "Epoch 60/100\n",
            "1022/1022 [==============================] - 2s 2ms/step - loss: 0.1689 - accuracy: 0.9384 - val_loss: 0.3324 - val_accuracy: 0.9269\n",
            "Epoch 61/100\n",
            "1022/1022 [==============================] - 2s 2ms/step - loss: 0.1526 - accuracy: 0.9305 - val_loss: 0.3702 - val_accuracy: 0.8904\n",
            "Epoch 62/100\n",
            "1022/1022 [==============================] - 2s 2ms/step - loss: 0.1606 - accuracy: 0.9335 - val_loss: 0.4148 - val_accuracy: 0.8904\n",
            "Epoch 63/100\n",
            "1022/1022 [==============================] - 2s 2ms/step - loss: 0.1491 - accuracy: 0.9344 - val_loss: 0.3806 - val_accuracy: 0.9178\n",
            "Epoch 64/100\n",
            "1022/1022 [==============================] - 2s 2ms/step - loss: 0.1512 - accuracy: 0.9335 - val_loss: 0.3444 - val_accuracy: 0.8950\n",
            "Epoch 65/100\n",
            "1022/1022 [==============================] - 2s 2ms/step - loss: 0.1722 - accuracy: 0.9266 - val_loss: 0.3765 - val_accuracy: 0.9132\n",
            "Epoch 66/100\n",
            "1022/1022 [==============================] - 2s 2ms/step - loss: 0.1562 - accuracy: 0.9305 - val_loss: 0.3761 - val_accuracy: 0.9178\n",
            "Epoch 67/100\n",
            "1022/1022 [==============================] - 2s 2ms/step - loss: 0.1485 - accuracy: 0.9325 - val_loss: 0.3770 - val_accuracy: 0.9224\n",
            "Epoch 68/100\n",
            "1022/1022 [==============================] - 2s 2ms/step - loss: 0.1579 - accuracy: 0.9305 - val_loss: 0.3856 - val_accuracy: 0.9178\n",
            "Epoch 69/100\n",
            "1022/1022 [==============================] - 2s 2ms/step - loss: 0.1739 - accuracy: 0.9227 - val_loss: 0.3519 - val_accuracy: 0.8995\n",
            "Epoch 70/100\n",
            "1022/1022 [==============================] - 2s 2ms/step - loss: 0.1714 - accuracy: 0.9227 - val_loss: 0.3743 - val_accuracy: 0.9132\n",
            "Epoch 71/100\n",
            "1022/1022 [==============================] - 2s 2ms/step - loss: 0.1792 - accuracy: 0.9149 - val_loss: 0.4301 - val_accuracy: 0.8995\n",
            "Epoch 72/100\n",
            "1022/1022 [==============================] - 2s 2ms/step - loss: 0.1612 - accuracy: 0.9266 - val_loss: 0.4167 - val_accuracy: 0.8767\n",
            "Epoch 73/100\n",
            "1022/1022 [==============================] - 2s 2ms/step - loss: 0.1566 - accuracy: 0.9315 - val_loss: 0.4398 - val_accuracy: 0.9087\n",
            "Epoch 74/100\n",
            "1022/1022 [==============================] - 2s 2ms/step - loss: 0.1500 - accuracy: 0.9354 - val_loss: 0.3950 - val_accuracy: 0.9041\n",
            "Epoch 75/100\n",
            "1022/1022 [==============================] - 2s 2ms/step - loss: 0.1514 - accuracy: 0.9354 - val_loss: 0.3634 - val_accuracy: 0.9041\n",
            "Epoch 76/100\n",
            "1022/1022 [==============================] - 2s 2ms/step - loss: 0.1349 - accuracy: 0.9452 - val_loss: 0.3705 - val_accuracy: 0.9087\n",
            "Epoch 77/100\n",
            "1022/1022 [==============================] - 2s 2ms/step - loss: 0.1354 - accuracy: 0.9393 - val_loss: 0.4196 - val_accuracy: 0.8904\n",
            "Epoch 78/100\n",
            "1022/1022 [==============================] - 2s 2ms/step - loss: 0.1273 - accuracy: 0.9472 - val_loss: 0.4923 - val_accuracy: 0.9087\n",
            "Epoch 79/100\n",
            "1022/1022 [==============================] - 2s 2ms/step - loss: 0.1528 - accuracy: 0.9315 - val_loss: 0.4412 - val_accuracy: 0.8904\n",
            "Epoch 80/100\n",
            "1022/1022 [==============================] - 2s 2ms/step - loss: 0.1687 - accuracy: 0.9237 - val_loss: 0.5140 - val_accuracy: 0.8950\n",
            "Epoch 81/100\n",
            "1022/1022 [==============================] - 2s 2ms/step - loss: 0.1479 - accuracy: 0.9354 - val_loss: 0.4236 - val_accuracy: 0.9087\n",
            "Epoch 82/100\n",
            "1022/1022 [==============================] - 2s 2ms/step - loss: 0.1283 - accuracy: 0.9423 - val_loss: 0.4059 - val_accuracy: 0.9132\n",
            "Epoch 83/100\n",
            "1022/1022 [==============================] - 2s 2ms/step - loss: 0.1329 - accuracy: 0.9384 - val_loss: 0.4409 - val_accuracy: 0.9132\n",
            "Epoch 84/100\n",
            "1022/1022 [==============================] - 2s 2ms/step - loss: 0.1419 - accuracy: 0.9462 - val_loss: 0.4495 - val_accuracy: 0.8950\n",
            "Epoch 85/100\n",
            "1022/1022 [==============================] - 2s 2ms/step - loss: 0.1677 - accuracy: 0.9286 - val_loss: 0.4496 - val_accuracy: 0.8950\n",
            "Epoch 86/100\n",
            "1022/1022 [==============================] - 2s 2ms/step - loss: 0.1357 - accuracy: 0.9354 - val_loss: 0.4367 - val_accuracy: 0.8995\n",
            "Epoch 87/100\n",
            "1022/1022 [==============================] - 2s 2ms/step - loss: 0.1278 - accuracy: 0.9472 - val_loss: 0.4308 - val_accuracy: 0.8950\n",
            "Epoch 88/100\n",
            "1022/1022 [==============================] - 2s 2ms/step - loss: 0.1141 - accuracy: 0.9540 - val_loss: 0.4666 - val_accuracy: 0.8904\n",
            "Epoch 89/100\n",
            "1022/1022 [==============================] - 2s 2ms/step - loss: 0.1122 - accuracy: 0.9550 - val_loss: 0.5216 - val_accuracy: 0.9041\n",
            "Epoch 90/100\n",
            "1022/1022 [==============================] - 2s 2ms/step - loss: 0.1414 - accuracy: 0.9393 - val_loss: 0.5421 - val_accuracy: 0.9041\n",
            "Epoch 91/100\n",
            "1022/1022 [==============================] - 2s 2ms/step - loss: 0.1274 - accuracy: 0.9384 - val_loss: 0.4496 - val_accuracy: 0.9087\n",
            "Epoch 92/100\n",
            "1022/1022 [==============================] - 2s 2ms/step - loss: 0.1457 - accuracy: 0.9354 - val_loss: 0.3390 - val_accuracy: 0.9178\n",
            "Epoch 93/100\n",
            "1022/1022 [==============================] - 2s 2ms/step - loss: 0.1311 - accuracy: 0.9472 - val_loss: 0.4711 - val_accuracy: 0.9087\n",
            "Epoch 94/100\n",
            "1022/1022 [==============================] - 2s 2ms/step - loss: 0.1093 - accuracy: 0.9560 - val_loss: 0.4620 - val_accuracy: 0.9132\n",
            "Epoch 95/100\n",
            "1022/1022 [==============================] - 2s 2ms/step - loss: 0.1717 - accuracy: 0.9207 - val_loss: 0.3305 - val_accuracy: 0.8950\n",
            "Epoch 96/100\n",
            "1022/1022 [==============================] - 2s 2ms/step - loss: 0.1526 - accuracy: 0.9325 - val_loss: 0.4201 - val_accuracy: 0.9087\n",
            "Epoch 97/100\n",
            "1022/1022 [==============================] - 2s 2ms/step - loss: 0.1118 - accuracy: 0.9472 - val_loss: 0.5081 - val_accuracy: 0.9132\n",
            "Epoch 98/100\n",
            "1022/1022 [==============================] - 2s 2ms/step - loss: 0.1646 - accuracy: 0.9217 - val_loss: 0.4039 - val_accuracy: 0.8858\n",
            "Epoch 99/100\n",
            "1022/1022 [==============================] - 2s 2ms/step - loss: 0.1515 - accuracy: 0.9354 - val_loss: 0.4964 - val_accuracy: 0.8813\n",
            "Epoch 100/100\n",
            "1022/1022 [==============================] - 2s 2ms/step - loss: 0.1341 - accuracy: 0.9384 - val_loss: 0.4204 - val_accuracy: 0.8904\n"
          ],
          "name": "stdout"
        }
      ]
    },
    {
      "cell_type": "code",
      "metadata": {
        "id": "5wbchR3yeAgJ",
        "colab_type": "code",
        "colab": {
          "base_uri": "https://localhost:8080/",
          "height": 295
        },
        "outputId": "b0434e30-1c90-4827-a57f-648d34fc9cc9"
      },
      "source": [
        "plt.plot(hist_2.history['loss'])\n",
        "plt.plot(hist_2.history['val_loss'])\n",
        "plt.title('Model loss')\n",
        "plt.ylabel('Loss')\n",
        "plt.xlabel('Epoch')\n",
        "plt.legend(['Train', 'Val'], loc='upper right')\n",
        "plt.show()"
      ],
      "execution_count": 19,
      "outputs": [
        {
          "output_type": "display_data",
          "data": {
            "image/png": "[encoded data removed]",
            "text/plain": [
              "<Figure size 432x288 with 1 Axes>"
            ]
          },
          "metadata": {
            "tags": [],
            "needs_background": "light"
          }
        }
      ]
    },
    {
      "cell_type": "code",
      "metadata": {
        "id": "3bbJnUqMeEwM",
        "colab_type": "code",
        "colab": {
          "base_uri": "https://localhost:8080/",
          "height": 295
        },
        "outputId": "27c60f0c-2fa6-4ef5-c8fd-f6f428ac6ac3"
      },
      "source": [
        "plt.plot(hist_2.history['accuracy'])\n",
        "plt.plot(hist_2.history['val_accuracy'])\n",
        "plt.title('Model accuracy')\n",
        "plt.ylabel('Accuracy')\n",
        "plt.xlabel('Epoch')\n",
        "plt.legend(['Train', 'Val'], loc='lower right')\n",
        "plt.show()"
      ],
      "execution_count": 20,
      "outputs": [
        {
          "output_type": "display_data",
          "data": {
            "image/png": "[encoded data removed]",
            "text/plain": [
              "<Figure size 432x288 with 1 Axes>"
            ]
          },
          "metadata": {
            "tags": [],
            "needs_background": "light"
          }
        }
      ]
    },
    {
      "cell_type": "code",
      "metadata": {
        "id": "v9X1LhhneS5u",
        "colab_type": "code",
        "colab": {}
      },
      "source": [
        "#Now, you can see that Model 2 is over fitting when compared to Model 1 due to additional hidden layers added to Model 2 when compared to Model 1\n",
        "#Overfitting is identified via Accuracy graph above where the Model performs very well on the Training data (with high accuracy) and performs worst on Validation data (with low accuracy when compared to Training data)"
      ],
      "execution_count": null,
      "outputs": []
    },
    {
      "cell_type": "code",
      "metadata": {
        "id": "SZlFTqFweTw9",
        "colab_type": "code",
        "colab": {
          "base_uri": "https://localhost:8080/",
          "height": 1000
        },
        "outputId": "7fa8b799-3155-4dcb-b99e-7f19971f4b6b"
      },
      "source": [
        "#Model 3: Adding L2 regularization to same paramaters given to Model 2 thereby reducing the Overfitting in Model 2.\n",
        "#L2 regularization also referred to as Ridge regression\n",
        "#Ridge regression adds “squared magnitude” of coefficient as penalty term to the loss function\n",
        "#L2 Regularization adds the term Lambda and Lambda need to be choosen carefully.\n",
        "#L2 regularization forces the weights to be small but does not make them zero and does non sparse solution.\n",
        "\n",
        "from keras.layers import Dropout\n",
        "from keras import regularizers\n",
        "\n",
        "model_3 = Sequential([\n",
        "    Dense(1000, activation='relu', kernel_regularizer=regularizers.l2(0.01), input_shape=(10,)),\n",
        "    Dropout(0.3),\n",
        "    Dense(1000, activation='relu', kernel_regularizer=regularizers.l2(0.01)),\n",
        "    Dropout(0.3),\n",
        "    Dense(1000, activation='relu', kernel_regularizer=regularizers.l2(0.01)),\n",
        "    Dropout(0.3),\n",
        "    Dense(1000, activation='relu', kernel_regularizer=regularizers.l2(0.01)),\n",
        "    Dropout(0.3),\n",
        "    Dense(1, activation='sigmoid', kernel_regularizer=regularizers.l2(0.01)),\n",
        "])\n",
        "\n",
        "\n",
        "model_3.compile(optimizer='adam',\n",
        "              loss='binary_crossentropy',\n",
        "              metrics=['accuracy'])\n",
        "hist_3 = model_3.fit(X_train, Y_train,\n",
        "          batch_size=32, epochs=100,\n",
        "          validation_data=(X_val, Y_val))"
      ],
      "execution_count": 21,
      "outputs": [
        {
          "output_type": "stream",
          "text": [
            "Train on 1022 samples, validate on 219 samples\n",
            "Epoch 1/100\n",
            "1022/1022 [==============================] - 2s 2ms/step - loss: 14.7147 - accuracy: 0.7231 - val_loss: 4.0215 - val_accuracy: 0.8311\n",
            "Epoch 2/100\n",
            "1022/1022 [==============================] - 2s 2ms/step - loss: 1.7199 - accuracy: 0.8327 - val_loss: 0.6856 - val_accuracy: 0.8950\n",
            "Epoch 3/100\n",
            "1022/1022 [==============================] - 2s 2ms/step - loss: 0.5601 - accuracy: 0.8699 - val_loss: 0.5194 - val_accuracy: 0.8950\n",
            "Epoch 4/100\n",
            "1022/1022 [==============================] - 2s 2ms/step - loss: 0.4892 - accuracy: 0.8787 - val_loss: 0.5126 - val_accuracy: 0.8721\n",
            "Epoch 5/100\n",
            "1022/1022 [==============================] - 2s 2ms/step - loss: 0.4992 - accuracy: 0.8601 - val_loss: 0.4815 - val_accuracy: 0.8950\n",
            "Epoch 6/100\n",
            "1022/1022 [==============================] - 2s 2ms/step - loss: 0.4984 - accuracy: 0.8571 - val_loss: 0.5201 - val_accuracy: 0.8630\n",
            "Epoch 7/100\n",
            "1022/1022 [==============================] - 2s 2ms/step - loss: 0.4911 - accuracy: 0.8620 - val_loss: 0.4639 - val_accuracy: 0.8950\n",
            "Epoch 8/100\n",
            "1022/1022 [==============================] - 2s 2ms/step - loss: 0.4853 - accuracy: 0.8669 - val_loss: 0.4838 - val_accuracy: 0.8858\n",
            "Epoch 9/100\n",
            "1022/1022 [==============================] - 2s 2ms/step - loss: 0.4513 - accuracy: 0.8806 - val_loss: 0.4768 - val_accuracy: 0.8904\n",
            "Epoch 10/100\n",
            "1022/1022 [==============================] - 2s 2ms/step - loss: 0.4672 - accuracy: 0.8699 - val_loss: 0.5223 - val_accuracy: 0.8584\n",
            "Epoch 11/100\n",
            "1022/1022 [==============================] - 2s 2ms/step - loss: 0.4715 - accuracy: 0.8699 - val_loss: 0.4581 - val_accuracy: 0.9041\n",
            "Epoch 12/100\n",
            "1022/1022 [==============================] - 2s 2ms/step - loss: 0.4377 - accuracy: 0.8826 - val_loss: 0.4713 - val_accuracy: 0.8858\n",
            "Epoch 13/100\n",
            "1022/1022 [==============================] - 2s 2ms/step - loss: 0.4396 - accuracy: 0.8885 - val_loss: 0.4492 - val_accuracy: 0.9041\n",
            "Epoch 14/100\n",
            "1022/1022 [==============================] - 2s 2ms/step - loss: 0.4353 - accuracy: 0.8924 - val_loss: 0.4776 - val_accuracy: 0.8904\n",
            "Epoch 15/100\n",
            "1022/1022 [==============================] - 2s 2ms/step - loss: 0.4474 - accuracy: 0.8855 - val_loss: 0.5186 - val_accuracy: 0.8356\n",
            "Epoch 16/100\n",
            "1022/1022 [==============================] - 2s 2ms/step - loss: 0.4652 - accuracy: 0.8777 - val_loss: 0.4604 - val_accuracy: 0.8995\n",
            "Epoch 17/100\n",
            "1022/1022 [==============================] - 2s 2ms/step - loss: 0.4457 - accuracy: 0.8806 - val_loss: 0.4438 - val_accuracy: 0.8950\n",
            "Epoch 18/100\n",
            "1022/1022 [==============================] - 2s 2ms/step - loss: 0.4342 - accuracy: 0.8826 - val_loss: 0.4605 - val_accuracy: 0.8950\n",
            "Epoch 19/100\n",
            "1022/1022 [==============================] - 2s 2ms/step - loss: 0.4617 - accuracy: 0.8708 - val_loss: 0.4466 - val_accuracy: 0.8995\n",
            "Epoch 20/100\n",
            "1022/1022 [==============================] - 2s 2ms/step - loss: 0.4509 - accuracy: 0.8767 - val_loss: 0.4868 - val_accuracy: 0.8584\n",
            "Epoch 21/100\n",
            "1022/1022 [==============================] - 2s 2ms/step - loss: 0.4402 - accuracy: 0.8885 - val_loss: 0.4381 - val_accuracy: 0.9087\n",
            "Epoch 22/100\n",
            "1022/1022 [==============================] - 2s 2ms/step - loss: 0.4302 - accuracy: 0.8816 - val_loss: 0.4412 - val_accuracy: 0.9041\n",
            "Epoch 23/100\n",
            "1022/1022 [==============================] - 2s 2ms/step - loss: 0.4379 - accuracy: 0.8845 - val_loss: 0.4575 - val_accuracy: 0.8995\n",
            "Epoch 24/100\n",
            "1022/1022 [==============================] - 2s 2ms/step - loss: 0.4306 - accuracy: 0.8875 - val_loss: 0.4719 - val_accuracy: 0.8767\n",
            "Epoch 25/100\n",
            "1022/1022 [==============================] - 2s 2ms/step - loss: 0.4373 - accuracy: 0.8816 - val_loss: 0.4373 - val_accuracy: 0.9041\n",
            "Epoch 26/100\n",
            "1022/1022 [==============================] - 2s 2ms/step - loss: 0.4200 - accuracy: 0.8924 - val_loss: 0.4676 - val_accuracy: 0.8767\n",
            "Epoch 27/100\n",
            "1022/1022 [==============================] - 2s 2ms/step - loss: 0.4230 - accuracy: 0.8914 - val_loss: 0.4545 - val_accuracy: 0.8950\n",
            "Epoch 28/100\n",
            "1022/1022 [==============================] - 2s 2ms/step - loss: 0.4341 - accuracy: 0.8973 - val_loss: 0.5034 - val_accuracy: 0.8402\n",
            "Epoch 29/100\n",
            "1022/1022 [==============================] - 2s 2ms/step - loss: 0.4429 - accuracy: 0.8963 - val_loss: 0.4326 - val_accuracy: 0.8995\n",
            "Epoch 30/100\n",
            "1022/1022 [==============================] - 2s 2ms/step - loss: 0.4364 - accuracy: 0.8757 - val_loss: 0.4455 - val_accuracy: 0.9087\n",
            "Epoch 31/100\n",
            "1022/1022 [==============================] - 2s 2ms/step - loss: 0.4416 - accuracy: 0.8865 - val_loss: 0.4832 - val_accuracy: 0.8721\n",
            "Epoch 32/100\n",
            "1022/1022 [==============================] - 2s 2ms/step - loss: 0.4367 - accuracy: 0.8806 - val_loss: 0.5418 - val_accuracy: 0.7991\n",
            "Epoch 33/100\n",
            "1022/1022 [==============================] - 2s 2ms/step - loss: 0.4412 - accuracy: 0.8836 - val_loss: 0.4325 - val_accuracy: 0.8950\n",
            "Epoch 34/100\n",
            "1022/1022 [==============================] - 2s 2ms/step - loss: 0.4343 - accuracy: 0.8845 - val_loss: 0.4349 - val_accuracy: 0.9041\n",
            "Epoch 35/100\n",
            "1022/1022 [==============================] - 2s 2ms/step - loss: 0.4278 - accuracy: 0.8836 - val_loss: 0.5127 - val_accuracy: 0.8265\n",
            "Epoch 36/100\n",
            "1022/1022 [==============================] - 2s 2ms/step - loss: 0.4428 - accuracy: 0.8767 - val_loss: 0.4333 - val_accuracy: 0.8995\n",
            "Epoch 37/100\n",
            "1022/1022 [==============================] - 2s 2ms/step - loss: 0.4247 - accuracy: 0.8924 - val_loss: 0.4354 - val_accuracy: 0.9041\n",
            "Epoch 38/100\n",
            "1022/1022 [==============================] - 2s 2ms/step - loss: 0.4237 - accuracy: 0.8924 - val_loss: 0.4361 - val_accuracy: 0.9041\n",
            "Epoch 39/100\n",
            "1022/1022 [==============================] - 2s 2ms/step - loss: 0.4333 - accuracy: 0.8806 - val_loss: 0.4574 - val_accuracy: 0.8995\n",
            "Epoch 40/100\n",
            "1022/1022 [==============================] - 2s 2ms/step - loss: 0.4327 - accuracy: 0.8845 - val_loss: 0.4684 - val_accuracy: 0.8676\n",
            "Epoch 41/100\n",
            "1022/1022 [==============================] - 2s 2ms/step - loss: 0.4308 - accuracy: 0.8767 - val_loss: 0.4499 - val_accuracy: 0.8950\n",
            "Epoch 42/100\n",
            "1022/1022 [==============================] - 2s 2ms/step - loss: 0.4225 - accuracy: 0.8904 - val_loss: 0.4345 - val_accuracy: 0.9087\n",
            "Epoch 43/100\n",
            "1022/1022 [==============================] - 2s 2ms/step - loss: 0.4234 - accuracy: 0.8855 - val_loss: 0.4507 - val_accuracy: 0.9041\n",
            "Epoch 44/100\n",
            "1022/1022 [==============================] - 2s 2ms/step - loss: 0.4421 - accuracy: 0.8767 - val_loss: 0.4810 - val_accuracy: 0.8584\n",
            "Epoch 45/100\n",
            "1022/1022 [==============================] - 2s 2ms/step - loss: 0.4333 - accuracy: 0.8826 - val_loss: 0.4513 - val_accuracy: 0.8950\n",
            "Epoch 46/100\n",
            "1022/1022 [==============================] - 2s 2ms/step - loss: 0.4292 - accuracy: 0.8826 - val_loss: 0.5050 - val_accuracy: 0.8265\n",
            "Epoch 47/100\n",
            "1022/1022 [==============================] - 2s 2ms/step - loss: 0.4386 - accuracy: 0.8845 - val_loss: 0.4557 - val_accuracy: 0.9087\n",
            "Epoch 48/100\n",
            "1022/1022 [==============================] - 2s 2ms/step - loss: 0.4273 - accuracy: 0.8865 - val_loss: 0.4353 - val_accuracy: 0.9041\n",
            "Epoch 49/100\n",
            "1022/1022 [==============================] - 2s 2ms/step - loss: 0.4214 - accuracy: 0.8865 - val_loss: 0.4346 - val_accuracy: 0.9041\n",
            "Epoch 50/100\n",
            "1022/1022 [==============================] - 2s 2ms/step - loss: 0.4192 - accuracy: 0.8875 - val_loss: 0.4315 - val_accuracy: 0.8995\n",
            "Epoch 51/100\n",
            "1022/1022 [==============================] - 2s 2ms/step - loss: 0.4360 - accuracy: 0.8875 - val_loss: 0.4437 - val_accuracy: 0.9087\n",
            "Epoch 52/100\n",
            "1022/1022 [==============================] - 2s 2ms/step - loss: 0.4191 - accuracy: 0.8875 - val_loss: 0.4537 - val_accuracy: 0.9041\n",
            "Epoch 53/100\n",
            "1022/1022 [==============================] - 2s 2ms/step - loss: 0.4218 - accuracy: 0.8894 - val_loss: 0.4434 - val_accuracy: 0.8995\n",
            "Epoch 54/100\n",
            "1022/1022 [==============================] - 2s 2ms/step - loss: 0.4298 - accuracy: 0.8777 - val_loss: 0.4581 - val_accuracy: 0.8904\n",
            "Epoch 55/100\n",
            "1022/1022 [==============================] - 2s 2ms/step - loss: 0.4272 - accuracy: 0.8875 - val_loss: 0.4343 - val_accuracy: 0.9041\n",
            "Epoch 56/100\n",
            "1022/1022 [==============================] - 2s 2ms/step - loss: 0.4460 - accuracy: 0.8728 - val_loss: 0.4954 - val_accuracy: 0.8767\n",
            "Epoch 57/100\n",
            "1022/1022 [==============================] - 2s 2ms/step - loss: 0.4451 - accuracy: 0.8728 - val_loss: 0.4463 - val_accuracy: 0.8904\n",
            "Epoch 58/100\n",
            "1022/1022 [==============================] - 2s 2ms/step - loss: 0.4181 - accuracy: 0.8806 - val_loss: 0.4343 - val_accuracy: 0.8995\n",
            "Epoch 59/100\n",
            "1022/1022 [==============================] - 2s 2ms/step - loss: 0.4216 - accuracy: 0.8885 - val_loss: 0.4344 - val_accuracy: 0.8995\n",
            "Epoch 60/100\n",
            "1022/1022 [==============================] - 2s 2ms/step - loss: 0.4290 - accuracy: 0.8845 - val_loss: 0.4479 - val_accuracy: 0.9087\n",
            "Epoch 61/100\n",
            "1022/1022 [==============================] - 2s 2ms/step - loss: 0.4359 - accuracy: 0.8845 - val_loss: 0.4591 - val_accuracy: 0.8995\n",
            "Epoch 62/100\n",
            "1022/1022 [==============================] - 2s 2ms/step - loss: 0.4190 - accuracy: 0.8894 - val_loss: 0.4313 - val_accuracy: 0.8995\n",
            "Epoch 63/100\n",
            "1022/1022 [==============================] - 2s 2ms/step - loss: 0.4234 - accuracy: 0.8845 - val_loss: 0.4723 - val_accuracy: 0.8904\n",
            "Epoch 64/100\n",
            "1022/1022 [==============================] - 2s 2ms/step - loss: 0.4238 - accuracy: 0.8953 - val_loss: 0.4356 - val_accuracy: 0.8995\n",
            "Epoch 65/100\n",
            "1022/1022 [==============================] - 2s 2ms/step - loss: 0.4224 - accuracy: 0.8885 - val_loss: 0.4410 - val_accuracy: 0.9132\n",
            "Epoch 66/100\n",
            "1022/1022 [==============================] - 2s 2ms/step - loss: 0.4161 - accuracy: 0.8982 - val_loss: 0.4479 - val_accuracy: 0.8995\n",
            "Epoch 67/100\n",
            "1022/1022 [==============================] - 2s 2ms/step - loss: 0.4269 - accuracy: 0.8836 - val_loss: 0.4357 - val_accuracy: 0.9041\n",
            "Epoch 68/100\n",
            "1022/1022 [==============================] - 2s 2ms/step - loss: 0.4161 - accuracy: 0.8982 - val_loss: 0.4597 - val_accuracy: 0.8858\n",
            "Epoch 69/100\n",
            "1022/1022 [==============================] - 2s 2ms/step - loss: 0.4202 - accuracy: 0.8943 - val_loss: 0.5162 - val_accuracy: 0.8265\n",
            "Epoch 70/100\n",
            "1022/1022 [==============================] - 2s 2ms/step - loss: 0.4142 - accuracy: 0.8924 - val_loss: 0.4316 - val_accuracy: 0.9087\n",
            "Epoch 71/100\n",
            "1022/1022 [==============================] - 2s 2ms/step - loss: 0.4348 - accuracy: 0.8757 - val_loss: 0.4456 - val_accuracy: 0.9087\n",
            "Epoch 72/100\n",
            "1022/1022 [==============================] - 2s 2ms/step - loss: 0.4292 - accuracy: 0.8885 - val_loss: 0.4337 - val_accuracy: 0.8995\n",
            "Epoch 73/100\n",
            "1022/1022 [==============================] - 2s 2ms/step - loss: 0.4201 - accuracy: 0.8914 - val_loss: 0.4483 - val_accuracy: 0.8950\n",
            "Epoch 74/100\n",
            "1022/1022 [==============================] - 2s 2ms/step - loss: 0.4396 - accuracy: 0.8806 - val_loss: 0.4678 - val_accuracy: 0.8721\n",
            "Epoch 75/100\n",
            "1022/1022 [==============================] - 2s 2ms/step - loss: 0.4325 - accuracy: 0.8836 - val_loss: 0.4562 - val_accuracy: 0.8904\n",
            "Epoch 76/100\n",
            "1022/1022 [==============================] - 2s 2ms/step - loss: 0.4200 - accuracy: 0.8777 - val_loss: 0.4361 - val_accuracy: 0.9087\n",
            "Epoch 77/100\n",
            "1022/1022 [==============================] - 2s 2ms/step - loss: 0.4155 - accuracy: 0.8914 - val_loss: 0.4326 - val_accuracy: 0.9041\n",
            "Epoch 78/100\n",
            "1022/1022 [==============================] - 2s 2ms/step - loss: 0.4421 - accuracy: 0.8855 - val_loss: 0.4530 - val_accuracy: 0.8950\n",
            "Epoch 79/100\n",
            "1022/1022 [==============================] - 2s 2ms/step - loss: 0.4293 - accuracy: 0.8865 - val_loss: 0.4517 - val_accuracy: 0.8904\n",
            "Epoch 80/100\n",
            "1022/1022 [==============================] - 2s 2ms/step - loss: 0.4169 - accuracy: 0.8875 - val_loss: 0.4480 - val_accuracy: 0.9087\n",
            "Epoch 81/100\n",
            "1022/1022 [==============================] - 2s 2ms/step - loss: 0.4230 - accuracy: 0.8855 - val_loss: 0.4407 - val_accuracy: 0.9041\n",
            "Epoch 82/100\n",
            "1022/1022 [==============================] - 2s 2ms/step - loss: 0.4447 - accuracy: 0.8738 - val_loss: 0.4606 - val_accuracy: 0.8813\n",
            "Epoch 83/100\n",
            "1022/1022 [==============================] - 2s 2ms/step - loss: 0.4180 - accuracy: 0.8924 - val_loss: 0.4501 - val_accuracy: 0.9041\n",
            "Epoch 84/100\n",
            "1022/1022 [==============================] - 2s 2ms/step - loss: 0.4257 - accuracy: 0.8855 - val_loss: 0.5174 - val_accuracy: 0.8219\n",
            "Epoch 85/100\n",
            "1022/1022 [==============================] - 2s 2ms/step - loss: 0.4342 - accuracy: 0.8875 - val_loss: 0.4358 - val_accuracy: 0.9132\n",
            "Epoch 86/100\n",
            "1022/1022 [==============================] - 2s 2ms/step - loss: 0.4190 - accuracy: 0.8914 - val_loss: 0.4607 - val_accuracy: 0.8767\n",
            "Epoch 87/100\n",
            "1022/1022 [==============================] - 2s 2ms/step - loss: 0.4328 - accuracy: 0.8738 - val_loss: 0.4340 - val_accuracy: 0.9041\n",
            "Epoch 88/100\n",
            "1022/1022 [==============================] - 2s 2ms/step - loss: 0.4342 - accuracy: 0.8826 - val_loss: 0.5189 - val_accuracy: 0.8265\n",
            "Epoch 89/100\n",
            "1022/1022 [==============================] - 2s 2ms/step - loss: 0.4284 - accuracy: 0.8885 - val_loss: 0.4386 - val_accuracy: 0.8995\n",
            "Epoch 90/100\n",
            "1022/1022 [==============================] - 2s 2ms/step - loss: 0.4268 - accuracy: 0.8855 - val_loss: 0.4406 - val_accuracy: 0.8995\n",
            "Epoch 91/100\n",
            "1022/1022 [==============================] - 2s 2ms/step - loss: 0.4220 - accuracy: 0.8875 - val_loss: 0.4551 - val_accuracy: 0.9041\n",
            "Epoch 92/100\n",
            "1022/1022 [==============================] - 2s 2ms/step - loss: 0.4172 - accuracy: 0.8992 - val_loss: 0.4417 - val_accuracy: 0.8995\n",
            "Epoch 93/100\n",
            "1022/1022 [==============================] - 2s 2ms/step - loss: 0.4135 - accuracy: 0.8885 - val_loss: 0.4596 - val_accuracy: 0.8813\n",
            "Epoch 94/100\n",
            "1022/1022 [==============================] - 2s 2ms/step - loss: 0.4419 - accuracy: 0.8669 - val_loss: 0.4340 - val_accuracy: 0.9087\n",
            "Epoch 95/100\n",
            "1022/1022 [==============================] - 2s 2ms/step - loss: 0.4170 - accuracy: 0.8943 - val_loss: 0.4340 - val_accuracy: 0.9041\n",
            "Epoch 96/100\n",
            "1022/1022 [==============================] - 2s 2ms/step - loss: 0.4152 - accuracy: 0.8933 - val_loss: 0.4367 - val_accuracy: 0.8995\n",
            "Epoch 97/100\n",
            "1022/1022 [==============================] - 2s 2ms/step - loss: 0.4187 - accuracy: 0.8894 - val_loss: 0.4389 - val_accuracy: 0.9132\n",
            "Epoch 98/100\n",
            "1022/1022 [==============================] - 2s 2ms/step - loss: 0.4303 - accuracy: 0.8777 - val_loss: 0.4375 - val_accuracy: 0.9132\n",
            "Epoch 99/100\n",
            "1022/1022 [==============================] - 2s 2ms/step - loss: 0.4129 - accuracy: 0.8875 - val_loss: 0.4331 - val_accuracy: 0.9132\n",
            "Epoch 100/100\n",
            "1022/1022 [==============================] - 2s 2ms/step - loss: 0.4195 - accuracy: 0.8904 - val_loss: 0.4384 - val_accuracy: 0.9041\n"
          ],
          "name": "stdout"
        }
      ]
    },
    {
      "cell_type": "code",
      "metadata": {
        "id": "u672hUYtfJGJ",
        "colab_type": "code",
        "colab": {
          "base_uri": "https://localhost:8080/",
          "height": 295
        },
        "outputId": "0e5cd020-fb4c-4485-dc56-913d1eff13c8"
      },
      "source": [
        "plt.plot(hist_3.history['loss'])\n",
        "plt.plot(hist_3.history['val_loss'])\n",
        "plt.title('Model loss')\n",
        "plt.ylabel('Loss')\n",
        "plt.xlabel('Epoch')\n",
        "plt.legend(['Train', 'Val'], loc='upper right')\n",
        "plt.ylim(top=1.2, bottom=0)\n",
        "plt.show()"
      ],
      "execution_count": 22,
      "outputs": [
        {
          "output_type": "display_data",
          "data": {
            "image/png": "[encoded data removed]",
            "text/plain": [
              "<Figure size 432x288 with 1 Axes>"
            ]
          },
          "metadata": {
            "tags": [],
            "needs_background": "light"
          }
        }
      ]
    },
    {
      "cell_type": "code",
      "metadata": {
        "id": "1zBmQL1KfNHk",
        "colab_type": "code",
        "colab": {}
      },
      "source": [
        "#As you can see that the Model 3 (With Regularization) is less overfitting when compared to Model 2 with many hidden layers (no regularization)\n",
        "#There is no overfitting here as Training accuracy vs Validation data accuracy is very close \n",
        "#Regularization improves the performance of the models"
      ],
      "execution_count": null,
      "outputs": []
    },
    {
      "cell_type": "code",
      "metadata": {
        "id": "qDxWiBiSfN1I",
        "colab_type": "code",
        "colab": {
          "base_uri": "https://localhost:8080/",
          "height": 295
        },
        "outputId": "e446418e-1f51-4d8d-bc28-ca46a93651a8"
      },
      "source": [
        "plt.plot(hist_3.history['accuracy'])\n",
        "plt.plot(hist_3.history['val_accuracy'])\n",
        "plt.title('Model accuracy')\n",
        "plt.ylabel('Accuracy')\n",
        "plt.xlabel('Epoch')\n",
        "plt.legend(['Train', 'Val'], loc='lower right')\n",
        "plt.show()"
      ],
      "execution_count": 23,
      "outputs": [
        {
          "output_type": "display_data",
          "data": {
            "image/png": "[encoded data removed]",
            "text/plain": [
              "<Figure size 432x288 with 1 Axes>"
            ]
          },
          "metadata": {
            "tags": [],
            "needs_background": "light"
          }
        }
      ]
    }
  ]
}